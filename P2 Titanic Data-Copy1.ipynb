{
 "cells": [
  {
   "cell_type": "markdown",
   "metadata": {},
   "source": [
    "# Titanic Data Analysis"
   ]
  },
  {
   "cell_type": "markdown",
   "metadata": {},
   "source": [
    "   In this project, the titanic data has been investigated through different statistcal approches. We are focusing on factors that affect the rate of survival, such as passenger boarding class, cabin and passenger age, sex. Some interesting questions includes:\n",
    "   \n",
    "    1. What is survival probability for female and male passengers in differnt class;\n",
    " \n",
    "    3. What is age distribution of passengers. Does children have "
   ]
  },
  {
   "cell_type": "code",
   "execution_count": 2,
   "metadata": {
    "collapsed": false
   },
   "outputs": [],
   "source": [
    "# import necessary modules \n",
    "\n",
    "import numpy as np\n",
    "import pandas as pd\n",
    "import seaborn as sns\n",
    "import matplotlib.pyplot as plt\n",
    "import ggplot\n",
    "%matplotlib inline \n"
   ]
  },
  {
   "cell_type": "code",
   "execution_count": 3,
   "metadata": {
    "collapsed": false
   },
   "outputs": [
    {
     "data": {
      "text/html": [
       "<div>\n",
       "<table border=\"1\" class=\"dataframe\">\n",
       "  <thead>\n",
       "    <tr style=\"text-align: right;\">\n",
       "      <th></th>\n",
       "      <th>PassengerId</th>\n",
       "      <th>Survived</th>\n",
       "      <th>Pclass</th>\n",
       "      <th>Name</th>\n",
       "      <th>Sex</th>\n",
       "      <th>Age</th>\n",
       "      <th>SibSp</th>\n",
       "      <th>Parch</th>\n",
       "      <th>Ticket</th>\n",
       "      <th>Fare</th>\n",
       "      <th>Cabin</th>\n",
       "      <th>Embarked</th>\n",
       "    </tr>\n",
       "  </thead>\n",
       "  <tbody>\n",
       "    <tr>\n",
       "      <th>0</th>\n",
       "      <td>1</td>\n",
       "      <td>0</td>\n",
       "      <td>3</td>\n",
       "      <td>Braund, Mr. Owen Harris</td>\n",
       "      <td>male</td>\n",
       "      <td>22.0</td>\n",
       "      <td>1</td>\n",
       "      <td>0</td>\n",
       "      <td>A/5 21171</td>\n",
       "      <td>7.2500</td>\n",
       "      <td>NaN</td>\n",
       "      <td>S</td>\n",
       "    </tr>\n",
       "    <tr>\n",
       "      <th>1</th>\n",
       "      <td>2</td>\n",
       "      <td>1</td>\n",
       "      <td>1</td>\n",
       "      <td>Cumings, Mrs. John Bradley (Florence Briggs Th...</td>\n",
       "      <td>female</td>\n",
       "      <td>38.0</td>\n",
       "      <td>1</td>\n",
       "      <td>0</td>\n",
       "      <td>PC 17599</td>\n",
       "      <td>71.2833</td>\n",
       "      <td>C85</td>\n",
       "      <td>C</td>\n",
       "    </tr>\n",
       "    <tr>\n",
       "      <th>2</th>\n",
       "      <td>3</td>\n",
       "      <td>1</td>\n",
       "      <td>3</td>\n",
       "      <td>Heikkinen, Miss. Laina</td>\n",
       "      <td>female</td>\n",
       "      <td>26.0</td>\n",
       "      <td>0</td>\n",
       "      <td>0</td>\n",
       "      <td>STON/O2. 3101282</td>\n",
       "      <td>7.9250</td>\n",
       "      <td>NaN</td>\n",
       "      <td>S</td>\n",
       "    </tr>\n",
       "    <tr>\n",
       "      <th>3</th>\n",
       "      <td>4</td>\n",
       "      <td>1</td>\n",
       "      <td>1</td>\n",
       "      <td>Futrelle, Mrs. Jacques Heath (Lily May Peel)</td>\n",
       "      <td>female</td>\n",
       "      <td>35.0</td>\n",
       "      <td>1</td>\n",
       "      <td>0</td>\n",
       "      <td>113803</td>\n",
       "      <td>53.1000</td>\n",
       "      <td>C123</td>\n",
       "      <td>S</td>\n",
       "    </tr>\n",
       "    <tr>\n",
       "      <th>4</th>\n",
       "      <td>5</td>\n",
       "      <td>0</td>\n",
       "      <td>3</td>\n",
       "      <td>Allen, Mr. William Henry</td>\n",
       "      <td>male</td>\n",
       "      <td>35.0</td>\n",
       "      <td>0</td>\n",
       "      <td>0</td>\n",
       "      <td>373450</td>\n",
       "      <td>8.0500</td>\n",
       "      <td>NaN</td>\n",
       "      <td>S</td>\n",
       "    </tr>\n",
       "  </tbody>\n",
       "</table>\n",
       "</div>"
      ],
      "text/plain": [
       "   PassengerId  Survived  Pclass  \\\n",
       "0            1         0       3   \n",
       "1            2         1       1   \n",
       "2            3         1       3   \n",
       "3            4         1       1   \n",
       "4            5         0       3   \n",
       "\n",
       "                                                Name     Sex   Age  SibSp  \\\n",
       "0                            Braund, Mr. Owen Harris    male  22.0      1   \n",
       "1  Cumings, Mrs. John Bradley (Florence Briggs Th...  female  38.0      1   \n",
       "2                             Heikkinen, Miss. Laina  female  26.0      0   \n",
       "3       Futrelle, Mrs. Jacques Heath (Lily May Peel)  female  35.0      1   \n",
       "4                           Allen, Mr. William Henry    male  35.0      0   \n",
       "\n",
       "   Parch            Ticket     Fare Cabin Embarked  \n",
       "0      0         A/5 21171   7.2500   NaN        S  \n",
       "1      0          PC 17599  71.2833   C85        C  \n",
       "2      0  STON/O2. 3101282   7.9250   NaN        S  \n",
       "3      0            113803  53.1000  C123        S  \n",
       "4      0            373450   8.0500   NaN        S  "
      ]
     },
     "execution_count": 3,
     "metadata": {},
     "output_type": "execute_result"
    }
   ],
   "source": [
    "# Read original csv file into panda dataframe.\n",
    "# To look at the structure of datafile, we print out the first few rows of the table.\n",
    "\n",
    "titanic_data = pd.read_csv('~/downloads/titanic-data.csv')\n",
    "\n",
    "titanic_data.head(5)"
   ]
  },
  {
   "cell_type": "markdown",
   "metadata": {},
   "source": [
    "    We are going to concentrate the factors of passenger class and sex that affect survival probability."
   ]
  },
  {
   "cell_type": "code",
   "execution_count": 6,
   "metadata": {
    "collapsed": false
   },
   "outputs": [
    {
     "name": "stdout",
     "output_type": "stream",
     "text": [
      "PassengerId    891\n",
      "Survived       891\n",
      "Pclass         891\n",
      "Name           891\n",
      "Sex            891\n",
      "Age            714\n",
      "SibSp          891\n",
      "Parch          891\n",
      "Ticket         891\n",
      "Fare           891\n",
      "Cabin          204\n",
      "Embarked       889\n",
      "dtype: int64\n"
     ]
    }
   ],
   "source": [
    "# check to see if there is any missing values of the data\n",
    "print titanic_data.count()"
   ]
  },
  {
   "cell_type": "markdown",
   "metadata": {},
   "source": [
    "    The above result shows that there are 891 rows in the datafile, and 177 'Age' data is missing, 2 'Embarked' data is missing. So need to drop N/A before doing analysis to the data."
   ]
  },
  {
   "cell_type": "code",
   "execution_count": 7,
   "metadata": {
    "collapsed": false
   },
   "outputs": [
    {
     "name": "stdout",
     "output_type": "stream",
     "text": [
      "Total number of passengers: 891 \n",
      "\n",
      "Number of female passengers: 314 \n",
      "\n",
      "Number of male passengers:  577 \n",
      "\n",
      "Number of first class passengers:  216 \n",
      "\n",
      "Number of second class passengers:  184 \n",
      "\n",
      "Number of third class passengers:  491 \n",
      "\n"
     ]
    }
   ],
   "source": [
    "# calculate total number of passengers on board\n",
    "print 'Total number of passengers:', len(titanic_data),'\\n'\n",
    "\n",
    "# calculate total number of female passengers and male passengers\n",
    "female_passanger = titanic_data[titanic_data['Sex']=='female']\n",
    "print 'Number of female passengers:', len(female_passanger), \"\\n\"\n",
    "\n",
    "male_passanger = titanic_data[titanic_data['Sex']=='male']\n",
    "print 'Number of male passengers: ', len(male_passanger),'\\n'\n",
    "\n",
    "# calculate number of passengers in different classes\n",
    "first_class = titanic_data[titanic_data['Pclass']==1]\n",
    "print 'Number of first class passengers: ', len(first_class),'\\n'\n",
    "\n",
    "second_class = titanic_data[titanic_data['Pclass']==2]\n",
    "print 'Number of second class passengers: ', len(second_class),'\\n'\n",
    "\n",
    "third_class = titanic_data[titanic_data['Pclass']==3]\n",
    "print 'Number of third class passengers: ', len(third_class),'\\n'"
   ]
  },
  {
   "cell_type": "markdown",
   "metadata": {},
   "source": [
    "    Number of male passengers is almost double the number of female passengers, the pie chart shows that proportion of female is 35.2%, and 64.8% for male."
   ]
  },
  {
   "cell_type": "code",
   "execution_count": 40,
   "metadata": {
    "collapsed": false
   },
   "outputs": [
    {
     "data": {
      "text/plain": [
       "<matplotlib.text.Text at 0x11be352d0>"
      ]
     },
     "execution_count": 40,
     "metadata": {},
     "output_type": "execute_result"
    },
    {
     "data": {
      "image/png": "[encoded data removed]",
      "text/plain": [
       "<matplotlib.figure.Figure at 0x11b88d2d0>"
      ]
     },
     "metadata": {},
     "output_type": "display_data"
    }
   ],
   "source": [
    "passenger = [314,577]\n",
    "colors = ['gold', 'skyblue']\n",
    "labels= 'Female','Male'\n",
    "explode = (0.1,0) \n",
    "plt.pie(passenger,labels=labels,explode=explode, colors=colors,\n",
    "        autopct='%1.1f%%', shadow=True, startangle=90)\n",
    "plt.title('proportion of female and male passengers')"
   ]
  },
  {
   "cell_type": "code",
   "execution_count": 42,
   "metadata": {
    "collapsed": false
   },
   "outputs": [
    {
     "data": {
      "text/plain": [
       "<matplotlib.text.Text at 0x11bf66d10>"
      ]
     },
     "execution_count": 42,
     "metadata": {},
     "output_type": "execute_result"
    },
    {
     "data": {
      "image/png": "[encoded data removed]",
      "text/plain": [
       "<matplotlib.figure.Figure at 0x11b8aa610>"
      ]
     },
     "metadata": {},
     "output_type": "display_data"
    }
   ],
   "source": [
    "data = [216,184,491]   \n",
    "colors = ['gold', 'lightskyblue','yellowgreen']\n",
    "labels= '1st Claas','2nd Class','3rd Class'\n",
    "explode = (0.1,0,0) \n",
    "plt.pie(data,labels=labels,explode=explode, colors=colors,\n",
    "        autopct='%1.1f%%', shadow=True, startangle=90)\n",
    "plt.title('proportion of passengers by pclass')"
   ]
  },
  {
   "cell_type": "markdown",
   "metadata": {},
   "source": [
    "    Pie chart of passenger in different pclass shows more than half passengers are from third class (55.1%) , and first class (24.2%) is slightly larger than second class(20.7%)."
   ]
  },
  {
   "cell_type": "markdown",
   "metadata": {},
   "source": [
    "### Survived passengers"
   ]
  },
  {
   "cell_type": "code",
   "execution_count": 39,
   "metadata": {
    "collapsed": false
   },
   "outputs": [
    {
     "name": "stdout",
     "output_type": "stream",
     "text": [
      "Survived  Sex   \n",
      "0         female     81\n",
      "          male      468\n",
      "1         female    233\n",
      "          male      109\n",
      "dtype: int64\n"
     ]
    }
   ],
   "source": [
    "# first, \n",
    "grouped_gender = titanic_data.groupby(['Survived','Sex'])\n",
    "print grouped_gender.size()"
   ]
  },
  {
   "cell_type": "code",
   "execution_count": 11,
   "metadata": {
    "collapsed": false
   },
   "outputs": [
    {
     "name": "stdout",
     "output_type": "stream",
     "text": [
      "Survived  Pclass\n",
      "0         1          80\n",
      "          2          97\n",
      "          3         372\n",
      "1         1         136\n",
      "          2          87\n",
      "          3         119\n",
      "dtype: int64\n"
     ]
    }
   ],
   "source": [
    "grouped_pclass = titanic_data.groupby(['Survived','Pclass'])\n",
    "print grouped_pclass.size()"
   ]
  },
  {
   "cell_type": "code",
   "execution_count": null,
   "metadata": {
    "collapsed": true
   },
   "outputs": [],
   "source": []
  },
  {
   "cell_type": "markdown",
   "metadata": {},
   "source": [
    "### Consider two factors "
   ]
  },
  {
   "cell_type": "code",
   "execution_count": null,
   "metadata": {
    "collapsed": true
   },
   "outputs": [],
   "source": []
  },
  {
   "cell_type": "code",
   "execution_count": 10,
   "metadata": {
    "collapsed": false
   },
   "outputs": [
    {
     "name": "stdout",
     "output_type": "stream",
     "text": [
      "Total Number of passengers:\n",
      "Pclass  Sex   \n",
      "1       female     94\n",
      "        male      122\n",
      "2       female     76\n",
      "        male      108\n",
      "3       female    144\n",
      "        male      347\n",
      "dtype: int64 \n",
      "\n",
      "\n",
      "Number of survived passengers:\n",
      "Pclass  Sex   \n",
      "1       female    91\n",
      "        male      45\n",
      "2       female    70\n",
      "        male      17\n",
      "3       female    72\n",
      "        male      47\n",
      "Name: Survived, dtype: int64 \n",
      "\n",
      "\n",
      "Survival Probability:\n",
      "Pclass  Sex   \n",
      "1       female    0.968085\n",
      "        male      0.368852\n",
      "2       female    0.921053\n",
      "        male      0.157407\n",
      "3       female    0.500000\n",
      "        male      0.135447\n",
      "dtype: float64\n"
     ]
    }
   ],
   "source": [
    "# First, group the data in pclass and sex\n",
    "\n",
    "grouped_gender = titanic_data.groupby('Sex')\n",
    "\n",
    "grouped_pclass = titanic_data.groupby('Pclass')\n",
    "\n",
    "grouped_data = titanic_data.groupby(['Pclass','Sex'])\n",
    "\n",
    "print 'Total Number of passengers:'\n",
    "print grouped_data.size(),'\\n\\n'\n",
    "\n",
    "# calculate the number of survived passengers of each group\n",
    "\n",
    "print 'Number of survived passengers:'\n",
    "print grouped_data['Survived'].sum(),'\\n\\n'\n",
    "\n",
    "# Survival probability for each pclass \n",
    "\n",
    "print 'Survival Probability:'\n",
    "print grouped_data['Survived'].sum()/grouped_data.size()"
   ]
  },
  {
   "cell_type": "code",
   "execution_count": 110,
   "metadata": {
    "collapsed": false
   },
   "outputs": [
    {
     "data": {
      "text/plain": [
       "<matplotlib.text.Text at 0x11f226890>"
      ]
     },
     "execution_count": 110,
     "metadata": {},
     "output_type": "execute_result"
    },
    {
     "data": {
      "image/png": "[encoded data removed]",
      "text/plain": [
       "<matplotlib.figure.Figure at 0x1206f26d0>"
      ]
     },
     "metadata": {},
     "output_type": "display_data"
    }
   ],
   "source": [
    "# Draw barplot to show survival for class and sex\n",
    "\n",
    "sns.set(style=\"whitegrid\")\n",
    "g = sns.factorplot(x=\"Pclass\", y=\"Survived\", hue=\"Sex\", data=titanic_data,\n",
    "                   size=6, kind=\"bar\", palette=\"muted\")\n",
    "g.despine(left=True)\n",
    "g.set_ylabels(\"survival probability\")\n",
    "sns.plt.title('Survival Probability of Each Group')"
   ]
  },
  {
   "cell_type": "markdown",
   "metadata": {},
   "source": [
    "    Survival probability for female is significantly greater than male, more than 90% female in first and second class had survived (96.8%, 92.1% in respective). Maybe it's because female passengers had higher priority to take lifeboats. While survival probability for male in second and third class is relatively low, only 15.7% and 13.5% in respective."
   ]
  },
  {
   "cell_type": "markdown",
   "metadata": {},
   "source": [
    "### Passenger Age Distribution"
   ]
  },
  {
   "cell_type": "code",
   "execution_count": 21,
   "metadata": {
    "collapsed": false
   },
   "outputs": [
    {
     "name": "stdout",
     "output_type": "stream",
     "text": [
      "Passenger Age Descriptive Statistics:\n",
      "count    714.000000\n",
      "mean      29.699118\n",
      "std       14.526497\n",
      "min        0.420000\n",
      "25%       20.125000\n",
      "50%       28.000000\n",
      "75%       38.000000\n",
      "max       80.000000\n",
      "Name: Age, dtype: float64 \n",
      "\n"
     ]
    }
   ],
   "source": [
    "# Then, we'd like to evaluate the 'age' factor, will chindren have high priority to take lifeboat.\n",
    "# how about \n",
    "\n",
    "# get complete 'Age' data, remove missing values\n",
    "age_data = titanic_data['Age'].dropna()\n",
    "\n",
    "# descriptive statistics of 'Age' data\n",
    "print 'Passenger Age Descriptive Statistics:\\n', age_data.describe(),'\\n'\n"
   ]
  },
  {
   "cell_type": "code",
   "execution_count": 33,
   "metadata": {
    "collapsed": false
   },
   "outputs": [
    {
     "data": {
      "image/png": "[encoded data removed]",
      "text/plain": [
       "<matplotlib.figure.Figure at 0x117a9e8d0>"
      ]
     },
     "metadata": {},
     "output_type": "display_data"
    }
   ],
   "source": [
    "survived = titanic_data[titanic_data['Survived']==1]\n",
    "not_survived = titanic_data[titanic_data['Survived']==0]\n",
    "\n",
    "fig, (ax0, ax1) = plt.subplots(1, 2,figsize=[16,6])\n",
    "ax0.hist(titanic_data['Age'],range=[0,80],bins=16)\n",
    "ax0.set_title('Histogram of Passengers Age')\n",
    "\n",
    "# Draw histogram of survived passengers age distribution\n",
    "\n",
    "ax1.hist(survived['Age'],range=[0,80],bins=16,color='darkseagreen')\n",
    "ax1.set_title('Histogram of Survived Passengers Age')\n",
    "ax0.set_xlabel('Age')\n",
    "ax0.set_ylabel('Counts')\n",
    "ax1.set_xlabel('Survived')\n",
    "ax1.set_ylabel('Counts')\n",
    "plt.show()"
   ]
  },
  {
   "cell_type": "markdown",
   "metadata": {},
   "source": [
    "     Number of passengers whose age between 15 and 40 is dominating. Children and senior are in the mimority , while children under age of 5 has twice the number for chindren under age of ten."
   ]
  },
  {
   "cell_type": "code",
   "execution_count": 29,
   "metadata": {
    "collapsed": false
   },
   "outputs": [
    {
     "data": {
      "image/png": "[encoded data removed]",
      "text/plain": [
       "<matplotlib.figure.Figure at 0x11b909610>"
      ]
     },
     "metadata": {},
     "output_type": "display_data"
    }
   ],
   "source": [
    "# We also compare the two histograms, to get an approximate proportion of survived passenger in\n",
    "# each age range. \n",
    "\n",
    "plt.style.use('seaborn-deep')\n",
    "plt.hist(titanic_data['Age'],range=[0,80],alpha=0.5,bins =16)\n",
    "plt.hist(survived['Age'],range=[0,80],bins =16,alpha=0.6,label='survived')\n",
    "plt.legend(loc='upper right')\n",
    "plt.xlabel('Age')\n",
    "plt.ylabel('Number of Passengers')\n",
    "plt.title('Histogram of Passengers Age')\n",
    "plt.show()"
   ]
  },
  {
   "cell_type": "markdown",
   "metadata": {},
   "source": [
    "    The median age for male passengers in each class is larger than female age median, for example, median age of male in first class is five years older than female, and first class male had highest age median, while age median for third class female is the lowest. Compare each class, "
   ]
  },
  {
   "cell_type": "markdown",
   "metadata": {},
   "source": [
    "Conclusion:\n",
    "    As we know from the analysis, the survival probability is significant high for first and second class female passengers, and age for male is relative higher than female in each class, so from above box plot, survived passenger age is smaller than unsurvived in each class, it is because female has higher survival probability, so the majority of survived is female."
   ]
  }
 ],
 "metadata": {
  "anaconda-cloud": {},
  "kernelspec": {
   "display_name": "Python [Root]",
   "language": "python",
   "name": "Python [Root]"
  },
  "language_info": {
   "codemirror_mode": {
    "name": "ipython",
    "version": 2
   },
   "file_extension": ".py",
   "mimetype": "text/x-python",
   "name": "python",
   "nbconvert_exporter": "python",
   "pygments_lexer": "ipython2",
   "version": "2.7.12"
  }
 },
 "nbformat": 4,
 "nbformat_minor": 0
}
