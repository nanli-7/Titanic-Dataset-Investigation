{
 "cells": [
  {
   "cell_type": "markdown",
   "metadata": {},
   "source": [
    "# Titanic Data Analysis"
   ]
  },
  {
   "cell_type": "markdown",
   "metadata": {},
   "source": [
    "   In this project, the titanic data has been investigated through different statistical approaches. We are focusing on factors that affect the rate of survival, such as passenger boarding class, sex, age. Some interesting questions includes:\n",
    "   \n",
    "    1. What is survival probability for female and male passengers in different class?\n",
    "    2. What is age distribution of passengers? Do children have high survival rate? "
   ]
  },
  {
   "cell_type": "code",
   "execution_count": 85,
   "metadata": {
    "collapsed": false
   },
   "outputs": [],
   "source": [
    "# import necessary modules \n",
    "\n",
    "import numpy as np\n",
    "import pandas as pd\n",
    "import seaborn as sns\n",
    "import matplotlib.pyplot as plt\n",
    "import ggplot\n",
    "%matplotlib inline \n"
   ]
  },
  {
   "cell_type": "code",
   "execution_count": 86,
   "metadata": {
    "collapsed": false
   },
   "outputs": [
    {
     "data": {
      "text/html": [
       "<div>\n",
       "<table border=\"1\" class=\"dataframe\">\n",
       "  <thead>\n",
       "    <tr style=\"text-align: right;\">\n",
       "      <th></th>\n",
       "      <th>PassengerId</th>\n",
       "      <th>Survived</th>\n",
       "      <th>Pclass</th>\n",
       "      <th>Name</th>\n",
       "      <th>Sex</th>\n",
       "      <th>Age</th>\n",
       "      <th>SibSp</th>\n",
       "      <th>Parch</th>\n",
       "      <th>Ticket</th>\n",
       "      <th>Fare</th>\n",
       "      <th>Cabin</th>\n",
       "      <th>Embarked</th>\n",
       "    </tr>\n",
       "  </thead>\n",
       "  <tbody>\n",
       "    <tr>\n",
       "      <th>0</th>\n",
       "      <td>1</td>\n",
       "      <td>0</td>\n",
       "      <td>3</td>\n",
       "      <td>Braund, Mr. Owen Harris</td>\n",
       "      <td>male</td>\n",
       "      <td>22.0</td>\n",
       "      <td>1</td>\n",
       "      <td>0</td>\n",
       "      <td>A/5 21171</td>\n",
       "      <td>7.2500</td>\n",
       "      <td>NaN</td>\n",
       "      <td>S</td>\n",
       "    </tr>\n",
       "    <tr>\n",
       "      <th>1</th>\n",
       "      <td>2</td>\n",
       "      <td>1</td>\n",
       "      <td>1</td>\n",
       "      <td>Cumings, Mrs. John Bradley (Florence Briggs Th...</td>\n",
       "      <td>female</td>\n",
       "      <td>38.0</td>\n",
       "      <td>1</td>\n",
       "      <td>0</td>\n",
       "      <td>PC 17599</td>\n",
       "      <td>71.2833</td>\n",
       "      <td>C85</td>\n",
       "      <td>C</td>\n",
       "    </tr>\n",
       "    <tr>\n",
       "      <th>2</th>\n",
       "      <td>3</td>\n",
       "      <td>1</td>\n",
       "      <td>3</td>\n",
       "      <td>Heikkinen, Miss. Laina</td>\n",
       "      <td>female</td>\n",
       "      <td>26.0</td>\n",
       "      <td>0</td>\n",
       "      <td>0</td>\n",
       "      <td>STON/O2. 3101282</td>\n",
       "      <td>7.9250</td>\n",
       "      <td>NaN</td>\n",
       "      <td>S</td>\n",
       "    </tr>\n",
       "    <tr>\n",
       "      <th>3</th>\n",
       "      <td>4</td>\n",
       "      <td>1</td>\n",
       "      <td>1</td>\n",
       "      <td>Futrelle, Mrs. Jacques Heath (Lily May Peel)</td>\n",
       "      <td>female</td>\n",
       "      <td>35.0</td>\n",
       "      <td>1</td>\n",
       "      <td>0</td>\n",
       "      <td>113803</td>\n",
       "      <td>53.1000</td>\n",
       "      <td>C123</td>\n",
       "      <td>S</td>\n",
       "    </tr>\n",
       "    <tr>\n",
       "      <th>4</th>\n",
       "      <td>5</td>\n",
       "      <td>0</td>\n",
       "      <td>3</td>\n",
       "      <td>Allen, Mr. William Henry</td>\n",
       "      <td>male</td>\n",
       "      <td>35.0</td>\n",
       "      <td>0</td>\n",
       "      <td>0</td>\n",
       "      <td>373450</td>\n",
       "      <td>8.0500</td>\n",
       "      <td>NaN</td>\n",
       "      <td>S</td>\n",
       "    </tr>\n",
       "  </tbody>\n",
       "</table>\n",
       "</div>"
      ],
      "text/plain": [
       "   PassengerId  Survived  Pclass  \\\n",
       "0            1         0       3   \n",
       "1            2         1       1   \n",
       "2            3         1       3   \n",
       "3            4         1       1   \n",
       "4            5         0       3   \n",
       "\n",
       "                                                Name     Sex   Age  SibSp  \\\n",
       "0                            Braund, Mr. Owen Harris    male  22.0      1   \n",
       "1  Cumings, Mrs. John Bradley (Florence Briggs Th...  female  38.0      1   \n",
       "2                             Heikkinen, Miss. Laina  female  26.0      0   \n",
       "3       Futrelle, Mrs. Jacques Heath (Lily May Peel)  female  35.0      1   \n",
       "4                           Allen, Mr. William Henry    male  35.0      0   \n",
       "\n",
       "   Parch            Ticket     Fare Cabin Embarked  \n",
       "0      0         A/5 21171   7.2500   NaN        S  \n",
       "1      0          PC 17599  71.2833   C85        C  \n",
       "2      0  STON/O2. 3101282   7.9250   NaN        S  \n",
       "3      0            113803  53.1000  C123        S  \n",
       "4      0            373450   8.0500   NaN        S  "
      ]
     },
     "execution_count": 86,
     "metadata": {},
     "output_type": "execute_result"
    }
   ],
   "source": [
    "# Load csv file to panda dataframe.\n",
    "\n",
    "titanic_data = pd.read_csv('~/downloads/titanic-data.csv')\n",
    "\n",
    "# Get brief idea of the date structure, print out the first few rows of the table.\n",
    "titanic_data.head(5)"
   ]
  },
  {
   "cell_type": "code",
   "execution_count": 87,
   "metadata": {
    "collapsed": false
   },
   "outputs": [
    {
     "name": "stdout",
     "output_type": "stream",
     "text": [
      "PassengerId    891\n",
      "Survived       891\n",
      "Pclass         891\n",
      "Name           891\n",
      "Sex            891\n",
      "Age            714\n",
      "SibSp          891\n",
      "Parch          891\n",
      "Ticket         891\n",
      "Fare           891\n",
      "Cabin          204\n",
      "Embarked       889\n",
      "dtype: int64\n"
     ]
    }
   ],
   "source": [
    "# Database is very informative, we are able to do many research about it. The survival rate is \n",
    "# most concerned topic, so we pick a few factors to analyze their relationship with survival rate. \n",
    "\n",
    "# check if there is any missing values of the data\n",
    "print titanic_data.count()"
   ]
  },
  {
   "cell_type": "markdown",
   "metadata": {},
   "source": [
    "    The above result shows that there are 891 rows in the datafile. 714 'Age' data was recorded, 177 is missing. Also 2 'Embarked' data is missing. So need to clean up the date before doing analysis."
   ]
  },
  {
   "cell_type": "code",
   "execution_count": 88,
   "metadata": {
    "collapsed": false
   },
   "outputs": [
    {
     "name": "stdout",
     "output_type": "stream",
     "text": [
      "Total number of passengers: 891 \n",
      "\n",
      "Number of female passengers: 314 \n",
      "\n",
      "Number of male passengers:  577 \n",
      "\n",
      "Number of first class passengers:  216 \n",
      "\n",
      "Number of second class passengers:  184 \n",
      "\n",
      "Number of third class passengers:  491 \n",
      "\n"
     ]
    }
   ],
   "source": [
    "# calculate total number of passengers on board\n",
    "print 'Total number of passengers:', len(titanic_data),'\\n'\n",
    "\n",
    "# calculate total number of female passengers and male passengers\n",
    "female_passanger = titanic_data[titanic_data['Sex']=='female']\n",
    "print 'Number of female passengers:', len(female_passanger), \"\\n\"\n",
    "\n",
    "male_passanger = titanic_data[titanic_data['Sex']=='male']\n",
    "print 'Number of male passengers: ', len(male_passanger),'\\n'\n",
    "\n",
    "# calculate number of passengers in different classes\n",
    "first_class = titanic_data[titanic_data['Pclass']==1]\n",
    "print 'Number of first class passengers: ', len(first_class),'\\n'\n",
    "\n",
    "second_class = titanic_data[titanic_data['Pclass']==2]\n",
    "print 'Number of second class passengers: ', len(second_class),'\\n'\n",
    "\n",
    "third_class = titanic_data[titanic_data['Pclass']==3]\n",
    "print 'Number of third class passengers: ', len(third_class),'\\n'"
   ]
  },
  {
   "cell_type": "code",
   "execution_count": 89,
   "metadata": {
    "collapsed": false
   },
   "outputs": [
    {
     "data": {
      "text/plain": [
       "<matplotlib.text.Text at 0x117acafd0>"
      ]
     },
     "execution_count": 89,
     "metadata": {},
     "output_type": "execute_result"
    },
    {
     "data": {
      "image/png": "[encoded data removed]",
      "text/plain": [
       "<matplotlib.figure.Figure at 0x11c575450>"
      ]
     },
     "metadata": {},
     "output_type": "display_data"
    }
   ],
   "source": [
    "# Number of male passengers is almost double the number of female passengers, the pie chart \n",
    "# shows that proportion of female is 35.2%, and 64.8% for male.\n",
    "\n",
    "passenger = [314,577]\n",
    "colors = ['gold', 'skyblue']\n",
    "labels= 'Female','Male'\n",
    "explode = (0.1,0) \n",
    "plt.pie(passenger,labels=labels,explode=explode, colors=colors,\n",
    "        autopct='%1.1f%%', shadow=True, startangle=90)\n",
    "plt.title('proportion of female and male passengers')"
   ]
  },
  {
   "cell_type": "code",
   "execution_count": 90,
   "metadata": {
    "collapsed": false
   },
   "outputs": [
    {
     "data": {
      "text/plain": [
       "<matplotlib.text.Text at 0x1170b4190>"
      ]
     },
     "execution_count": 90,
     "metadata": {},
     "output_type": "execute_result"
    },
    {
     "data": {
      "image/png": "[encoded data removed]",
      "text/plain": [
       "<matplotlib.figure.Figure at 0x11c583d50>"
      ]
     },
     "metadata": {},
     "output_type": "display_data"
    }
   ],
   "source": [
    "# Pie chart of passenger in different pclass shows more than half passengers are from third \n",
    "# class (55.1%) , and first class (24.2%) is slightly larger than second class(20.7%).\n",
    "\n",
    "data = [216,184,491]   \n",
    "colors = ['gold', 'lightskyblue','yellowgreen']\n",
    "labels= '1st Claas','2nd Class','3rd Class'\n",
    "explode = (0.1,0,0) \n",
    "plt.pie(data,labels=labels,explode=explode, colors=colors,\n",
    "        autopct='%1.1f%%', shadow=True, startangle=90)\n",
    "plt.title('proportion of passengers by pclass')"
   ]
  },
  {
   "cell_type": "markdown",
   "metadata": {},
   "source": [
    "### Survived passengers"
   ]
  },
  {
   "cell_type": "code",
   "execution_count": 91,
   "metadata": {
    "collapsed": false
   },
   "outputs": [
    {
     "name": "stdout",
     "output_type": "stream",
     "text": [
      "Survived  Sex   \n",
      "0         female     81\n",
      "          male      468\n",
      "1         female    233\n",
      "          male      109\n",
      "dtype: int64\n"
     ]
    }
   ],
   "source": [
    "# see the number of survived female and male\n",
    "grouped_gender = titanic_data.groupby(['Survived','Sex'])\n",
    "print grouped_gender.size()"
   ]
  },
  {
   "cell_type": "code",
   "execution_count": 92,
   "metadata": {
    "collapsed": false
   },
   "outputs": [
    {
     "name": "stdout",
     "output_type": "stream",
     "text": [
      "Survived  Pclass\n",
      "0         1          80\n",
      "          2          97\n",
      "          3         372\n",
      "1         1         136\n",
      "          2          87\n",
      "          3         119\n",
      "dtype: int64\n"
     ]
    }
   ],
   "source": [
    "# how many survivors in each class\n",
    "grouped_pclass = titanic_data.groupby(['Survived','Pclass'])\n",
    "print grouped_pclass.size()"
   ]
  },
  {
   "cell_type": "code",
   "execution_count": 93,
   "metadata": {
    "collapsed": true
   },
   "outputs": [],
   "source": [
    "# The calculation shows more than two third of survivors are female, and if we look at the data \n",
    "# in respect of class, passengers from 1st and 2nd class are majority."
   ]
  },
  {
   "cell_type": "markdown",
   "metadata": {},
   "source": [
    "### Consider two factors (Pclass, Sex)"
   ]
  },
  {
   "cell_type": "code",
   "execution_count": 94,
   "metadata": {
    "collapsed": false
   },
   "outputs": [
    {
     "name": "stdout",
     "output_type": "stream",
     "text": [
      "Total Number of passengers:\n",
      "Pclass  Sex   \n",
      "1       female     94\n",
      "        male      122\n",
      "2       female     76\n",
      "        male      108\n",
      "3       female    144\n",
      "        male      347\n",
      "dtype: int64 \n",
      "\n",
      "\n",
      "Number of survived passengers:\n",
      "Pclass  Sex   \n",
      "1       female    91\n",
      "        male      45\n",
      "2       female    70\n",
      "        male      17\n",
      "3       female    72\n",
      "        male      47\n",
      "Name: Survived, dtype: int64 \n",
      "\n",
      "\n",
      "Survival Probability:\n",
      "Pclass  Sex   \n",
      "1       female    0.968085\n",
      "        male      0.368852\n",
      "2       female    0.921053\n",
      "        male      0.157407\n",
      "3       female    0.500000\n",
      "        male      0.135447\n",
      "dtype: float64\n"
     ]
    }
   ],
   "source": [
    "# First, group the data in pclass and sex\n",
    "\n",
    "grouped_data = titanic_data.groupby(['Pclass','Sex'])\n",
    "\n",
    "print 'Total Number of passengers:'\n",
    "print grouped_data.size(),'\\n\\n'\n",
    "\n",
    "# calculate the number of survived passengers of each group\n",
    "\n",
    "print 'Number of survived passengers:'\n",
    "print grouped_data['Survived'].sum(),'\\n\\n'\n",
    "\n",
    "# Survival probability for each pclass \n",
    "\n",
    "print 'Survival Probability:'\n",
    "print grouped_data['Survived'].sum()/grouped_data.size()"
   ]
  },
  {
   "cell_type": "code",
   "execution_count": 95,
   "metadata": {
    "collapsed": false
   },
   "outputs": [
    {
     "data": {
      "text/plain": [
       "<matplotlib.text.Text at 0x116808810>"
      ]
     },
     "execution_count": 95,
     "metadata": {},
     "output_type": "execute_result"
    },
    {
     "data": {
      "image/png": "[encoded data removed]",
      "text/plain": [
       "<matplotlib.figure.Figure at 0x116d42b50>"
      ]
     },
     "metadata": {},
     "output_type": "display_data"
    }
   ],
   "source": [
    "# Survival probability for female is significantly greater than male, more than 90% female in \n",
    "# first and second class had survived (96.8%, 92.1% in respective). Maybe it's because female \n",
    "# passengers had higher priority to take lifeboats. While survival probability for male in \n",
    "# second and third class is relatively low, only 15.7% and 13.5% in respective.\n",
    "\n",
    "# Draw barplot to show survival for class and sex\n",
    "\n",
    "sns.set(style=\"whitegrid\")\n",
    "g = sns.factorplot(x=\"Pclass\", y=\"Survived\", hue=\"Sex\", data=titanic_data,\n",
    "                   size=6, kind=\"bar\", palette=\"muted\")\n",
    "g.despine(left=True)\n",
    "g.set_ylabels(\"survival probability\")\n",
    "sns.plt.title('Survival Probability of Each Group')"
   ]
  },
  {
   "cell_type": "markdown",
   "metadata": {},
   "source": [
    "### Passenger Age Distribution"
   ]
  },
  {
   "cell_type": "code",
   "execution_count": 96,
   "metadata": {
    "collapsed": false
   },
   "outputs": [
    {
     "name": "stdout",
     "output_type": "stream",
     "text": [
      "Passenger Age Descriptive Statistics:\n",
      "count    714.000000\n",
      "mean      29.699118\n",
      "std       14.526497\n",
      "min        0.420000\n",
      "25%       20.125000\n",
      "50%       28.000000\n",
      "75%       38.000000\n",
      "max       80.000000\n",
      "Name: Age, dtype: float64 \n",
      "\n"
     ]
    }
   ],
   "source": [
    "# first, take a glance at the age distribution for all passengers.\n",
    "\n",
    "# get complete 'Age' data, remove missing values\n",
    "age_data = titanic_data['Age'].dropna()\n",
    "\n",
    "# descriptive statistics of 'Age' data\n",
    "print 'Passenger Age Descriptive Statistics:\\n', age_data.describe(),'\\n'"
   ]
  },
  {
   "cell_type": "code",
   "execution_count": 97,
   "metadata": {
    "collapsed": false
   },
   "outputs": [
    {
     "data": {
      "image/png": "[encoded data removed]",
      "text/plain": [
       "<matplotlib.figure.Figure at 0x1170b4c10>"
      ]
     },
     "metadata": {},
     "output_type": "display_data"
    }
   ],
   "source": [
    "survived = titanic_data[titanic_data['Survived']==1]\n",
    "not_survived = titanic_data[titanic_data['Survived']==0]\n",
    "\n",
    "fig, (ax0, ax1) = plt.subplots(1, 2,figsize=[16,6])\n",
    "ax0.hist(titanic_data['Age'],range=[0,80],bins=16)\n",
    "ax0.set_title('Histogram of Passengers Age')\n",
    "\n",
    "# Draw histogram of survived passengers age distribution\n",
    "\n",
    "ax1.hist(survived['Age'],range=[0,80],bins=16,color='darkseagreen')\n",
    "ax1.set_title('Histogram of Survived Passengers Age')\n",
    "ax0.set_xlabel('Age')\n",
    "ax0.set_ylabel('Counts')\n",
    "ax1.set_xlabel('Age')\n",
    "ax1.set_ylabel('Counts')\n",
    "plt.show()"
   ]
  },
  {
   "cell_type": "code",
   "execution_count": 98,
   "metadata": {
    "collapsed": false
   },
   "outputs": [
    {
     "data": {
      "image/png": "[encoded data removed]",
      "text/plain": [
       "<matplotlib.figure.Figure at 0x116d28a90>"
      ]
     },
     "metadata": {},
     "output_type": "display_data"
    }
   ],
   "source": [
    "# From histogram, there are relatively more survivors among children who is under age of five .\n",
    "# We compare the two histograms, to get an approximate proportion of survived passenger in\n",
    "# each age range. \n",
    "\n",
    "plt.style.use('seaborn-deep')\n",
    "plt.hist(titanic_data['Age'],range=[0,80],alpha=0.5,bins =16)\n",
    "plt.hist(survived['Age'],range=[0,80],bins =16,alpha=0.6,label='survived')\n",
    "plt.legend(loc='upper right')\n",
    "plt.xlabel('Age')\n",
    "plt.ylabel('Number of Passengers')\n",
    "plt.title('Histogram of Passengers Age')\n",
    "plt.show()"
   ]
  },
  {
   "cell_type": "code",
   "execution_count": 99,
   "metadata": {
    "collapsed": false
   },
   "outputs": [
    {
     "name": "stdout",
     "output_type": "stream",
     "text": [
      "Number of children: 83 \n",
      "\n",
      "Survival probability for children: 0.590361445783 \n",
      "\n",
      "Survived children in each class:\n",
      "Pclass  Survived\n",
      "1       0            1\n",
      "        1            5\n",
      "2       1           19\n",
      "3       0           33\n",
      "        1           25\n",
      "dtype: int64\n"
     ]
    }
   ],
   "source": [
    "# Then, we'd like to evaluate the 'age' factor, will children have high priority to take lifeboat.\n",
    "\n",
    "# the survival rate for children( passenger whose age is under 16 ).\n",
    "children = titanic_data[titanic_data['Age']<16]\n",
    "adult = titanic_data[titanic_data['Age']>16]\n",
    "number = len(children)\n",
    "\n",
    "print 'Number of children:', number ,'\\n'\n",
    "\n",
    "print 'Survival probability for children:',children['Survived'].sum()/float(number),'\\n'\n",
    "\n",
    "print 'Survived children in each class:\\n', children.groupby(['Pclass','Survived']).size()\n",
    "\n",
    "# result shows that survival rate for children is relatively high\n",
    "# children from first and second class "
   ]
  },
  {
   "cell_type": "markdown",
   "metadata": {},
   "source": [
    "Conclusion:\n",
    "    In this project, we have analyzed factors of passenger class, sex and age and how they affect the survival probability. As we discussed before, female passengers, passenger from higher class and children had high survival probability, while survival rate for male from lower class is low. It is quite likely that female and children had high priority to lifeboat, and fare for first class was more expensive, which may give the passenger more chances to take the lifeboat. Or it is possible that lifeboats were close to first class cabin, and as long as boats had been occupied, passengers who were far from it will not able to have a seat.\n",
    "    Limits & Improvement:\n",
    "    1. factors may not have been thoroughly investigated, for example, we only consider the classes, but didn't compare the fare for each class, some second class fare may be even higher than first class, will this also affect the survival probability? And we didn't compare survival rate for different ages. \n",
    "    2. we didn't consider some other factors in the dataset, such as siblings, parents, embarked places. Will passengers travel with family have higher survival probability? Will parents and children stay together?\n",
    "    3. we can built up statistic model to evaluate the weight of factors, or we can applied machine learning method to predict the result. \n",
    "    \n",
    "    "
   ]
  },
  {
   "cell_type": "code",
   "execution_count": null,
   "metadata": {
    "collapsed": true
   },
   "outputs": [],
   "source": []
  }
 ],
 "metadata": {
  "anaconda-cloud": {},
  "kernelspec": {
   "display_name": "Python [Root]",
   "language": "python",
   "name": "Python [Root]"
  },
  "language_info": {
   "codemirror_mode": {
    "name": "ipython",
    "version": 2
   },
   "file_extension": ".py",
   "mimetype": "text/x-python",
   "name": "python",
   "nbconvert_exporter": "python",
   "pygments_lexer": "ipython2",
   "version": "2.7.12"
  }
 },
 "nbformat": 4,
 "nbformat_minor": 0
}
